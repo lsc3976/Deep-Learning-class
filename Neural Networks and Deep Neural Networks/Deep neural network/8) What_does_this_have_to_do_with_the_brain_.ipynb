{
  "nbformat": 4,
  "nbformat_minor": 0,
  "metadata": {
    "colab": {
      "name": "8.What does this have to do with the brain?.ipynb",
      "provenance": [],
      "collapsed_sections": [],
      "toc_visible": true,
      "authorship_tag": "ABX9TyPYuvHONc9OcWIskLeqToJD"
    },
    "kernelspec": {
      "name": "python3",
      "display_name": "Python 3"
    },
    "language_info": {
      "name": "python"
    }
  },
  "cells": [
    {
      "cell_type": "markdown",
      "source": [
        "# What does this have to do with the brain?"
      ],
      "metadata": {
        "id": "JcvcDYnCYOCM"
      }
    },
    {
      "cell_type": "markdown",
      "source": [
        "## 학습목표\n",
        "* 왜 딥러닝을 사람의 뇌에 비유하는지 알아보기"
      ],
      "metadata": {
        "id": "8rXSq8OTYdKz"
      }
    },
    {
      "cell_type": "markdown",
      "source": [
        "## Forward and backward propagation"
      ],
      "metadata": {
        "id": "hHNhuFlNYiNs"
      }
    },
    {
      "cell_type": "markdown",
      "source": [
        "<p align=\"center\"><img src=\"images/fnb.PNG\"></p>\n",
        "<p align=\"center\">Figure1.Forward and backward propagation</p>"
      ],
      "metadata": {
        "id": "vefMPzCbdhX0"
      }
    },
    {
      "cell_type": "markdown",
      "source": [
        "딥러닝을 구현할때 forward and backward propagation을 하게되고 복잡한 함수의 경사하강법인 수식들이 무엇을 하는지에 대한 직관을 전달하기 어렵기 때문에 \n",
        "\n",
        "인간의 뇌에 대한 비유는 이 수식이 하는 일에 대해 지나치게 단순화시킨 설명이다.\n",
        "하지만 이 단순성은 사람들이 공식적으로 말하거나 매체에 알릴 때에 아주 유용하다."
      ],
      "metadata": {
        "id": "r_bjEhQyc37M"
      }
    },
    {
      "cell_type": "markdown",
      "source": [
        "<p align=\"center\"><img src=\"images/logistic.PNG\"></p>\n",
        "<p align=\"center\">Figure2.logistic regression unit with a sigmoid activation functioin</p>"
      ],
      "metadata": {
        "id": "R70XBFdVfMuO"
      }
    },
    {
      "cell_type": "markdown",
      "source": [
        "<p align=\"center\"><img src=\"images/neuron.PNG\"></p>\n",
        "<p align=\"center\">Figure3.neuron</p>"
      ],
      "metadata": {
        "id": "GZiBLiZOf24N"
      }
    },
    {
      "cell_type": "markdown",
      "source": [
        "뇌의 신경 세포인 이 뉴런은 다른 뉴런으로부터 전기적 신호를 받아서 \n",
        "\n",
        "간단한 패치가 있는 계산을 하고 뉴런이 발사하면 \n",
        "\n",
        "전기 신호를 긴 선인 축색돌기를 통해서 다른 뉴런으로 보낸다.\n",
        "\n",
        "따라서 하나의 뉴런과 단일 logistic regression unit 사이에 아주 간단한 비유를 들 수 있다."
      ],
      "metadata": {
        "id": "ad45vxeEgGG1"
      }
    },
    {
      "cell_type": "markdown",
      "source": [
        "## 정리"
      ],
      "metadata": {
        "id": "bzy_OBEtjC-m"
      }
    },
    {
      "cell_type": "markdown",
      "source": [
        "\n",
        "뉴런이 하는 일 중 일부는 로지스틱 회귀와 비슷한 면이 있지만 우리가 신경과학에서 특징짓는 것보다 하나의 뉴런은 훨씬 더 복잡해서 \n",
        "\n",
        "현재 인간의 이해력으로는 하나의 뉴런이 하는 일도 다 파악하기 어렵다.\n",
        "\n",
        "그리고 인간의 뇌가 역전파나 경사 하강법 등의 알고리즘을 사용하는지도 완전히 불분명하다.\n",
        "\n",
        "따라서 딥러닝은 지도 학습에서 X-Y 매핑, 즉 input-output의 매핑을 학습하는 것처럼 매우 유연하고 복잡한 함수를 학습하기에 좋다고 생각한다."
      ],
      "metadata": {
        "id": "ZQJvYvCSiChd"
      }
    },
    {
      "cell_type": "markdown",
      "source": [
        "---\n",
        "# 참고\n",
        "[Andrew Ng-What does this have to do with the brain?](https://www.youtube.com/watch?v=2zgon7XfN4I&list=PLkDaE6sCZn6Ec-XTbcX1uRg2_u4xOEky0&index=43)\n"
      ],
      "metadata": {
        "id": "zkyvk12xjIzm"
      }
    }
  ]
}